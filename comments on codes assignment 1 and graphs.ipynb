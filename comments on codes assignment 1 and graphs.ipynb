{
 "cells": [
  {
   "cell_type": "code",
   "execution_count": 23,
   "id": "f7954f11",
   "metadata": {},
   "outputs": [],
   "source": [
    "#Assignment#1\n",
    "#TASK#1 : Explain each code in detail by adding comments in each line.\n",
    "\n",
    "#TASK#2 : Compare the results of following questions with all methods and also plot the graphs of all functions.\n",
    "\n",
    "#Note :\n",
    "#All codes are solved for your better understanding and as reference. You need to find the soltution of all\n",
    "\n",
    "#problems and then compare the results by making a table. For example you can make a table in Excel sheet.\n",
    "\n",
    "#Questions#1\n",
    "\n",
    "#Find the roots of the following cubic equation:\n",
    "#𝑥3−5𝑥−9=0 \n",
    "#Take Guess1 = 2 and Guess2 = 3\n",
    "\n",
    "#Question#2\n",
    "\n",
    "#Find the roots of the following cubic equation:\n",
    "#2𝑥3−9.5𝑥+7.5=0 \n",
    "#take initial guess = 5\n",
    "\n",
    "#Question#3\n",
    "\n",
    "#Find the root of the following equation:\n",
    "\n",
    "#𝑥2−𝑠𝑖𝑛2(𝑥)−4𝑥+1=0 \n",
    "#take guess1 = 0 and guess2 = 1\n",
    "\n",
    "#Question#4\n",
    "\n",
    "#Find the roots of the following equation\n",
    "\n",
    "#2𝑥2−5𝑥+3=0 \n",
    "\n",
    "#take guess1 = -2 and guess2 = 2"
   ]
  },
  {
   "cell_type": "code",
   "execution_count": 2,
   "id": "59187d08",
   "metadata": {},
   "outputs": [],
   "source": [
    "import numpy as np\n",
    "import matplotlib.pyplot as plt\n",
    "import math as mt"
   ]
  },
  {
   "cell_type": "code",
   "execution_count": 5,
   "id": "2dbc788c",
   "metadata": {},
   "outputs": [],
   "source": [
    "#1- Bisection Method .........................................................................."
   ]
  },
  {
   "cell_type": "code",
   "execution_count": 3,
   "id": "14882321",
   "metadata": {},
   "outputs": [
    {
     "name": "stdout",
     "output_type": "stream",
     "text": [
      "first guess: 2\n",
      "second guess: 3\n",
      "tolerance: 0.00001\n",
      "iteration 1, x2 = 2.500000 and f(x2)= -5.875000\n",
      "iteration 2, x2 = 2.750000 and f(x2)= -1.953125\n",
      "iteration 3, x2 = 2.875000 and f(x2)= 0.388672\n",
      "iteration 4, x2 = 2.812500 and f(x2)= -0.815186\n",
      "iteration 5, x2 = 2.843750 and f(x2)= -0.221588\n",
      "iteration 6, x2 = 2.859375 and f(x2)= 0.081448\n",
      "iteration 7, x2 = 2.851562 and f(x2)= -0.070592\n",
      "iteration 8, x2 = 2.855469 and f(x2)= 0.005297\n",
      "iteration 9, x2 = 2.853516 and f(x2)= -0.032680\n",
      "iteration 10, x2 = 2.854492 and f(x2)= -0.013700\n",
      "iteration 11, x2 = 2.854980 and f(x2)= -0.004204\n",
      "iteration 12, x2 = 2.855225 and f(x2)= 0.000546\n",
      "iteration 13, x2 = 2.855103 and f(x2)= -0.001829\n",
      "iteration 14, x2 = 2.855164 and f(x2)= -0.000641\n",
      "iteration 15, x2 = 2.855194 and f(x2)= -0.000048\n",
      "iteration 16, x2 = 2.855209 and f(x2)= 0.000249\n",
      "iteration 17, x2 = 2.855202 and f(x2)= 0.000101\n",
      "iteration 18, x2 = 2.855198 and f(x2)= 0.000027\n",
      "iteration 19, x2 = 2.855196 and f(x2)= -0.000011\n",
      "iteration 20, x2 = 2.855197 and f(x2)= 0.000008\n",
      "root is :2.85519695 \n"
     ]
    }
   ],
   "source": [
    "# guess1 = 2, guess2 = 3\n",
    "from math import sin   # access of sin functions\n",
    "def bisection(x0,x1,e): # for bisection, x0=first value , x1=second value, e=tolerance \n",
    "    step = 1\n",
    "    condition = True # first condition is true\n",
    "    while condition: # while is used it will run as long the condition is true\n",
    "        x2 = (x0+x1)/2 # in this mean value will be found and it will assign the value to x2\n",
    "        print('iteration %d, x2 = %0.6f and f(x2)= %0.6f' %(step,x2,f(x2)))\n",
    "        #it will print the iteration\n",
    "        if f(x0) * f(x2) < 0: # if multiplication of f(x0) and f(x2) is less then zero select this\n",
    "            x1 = x2 # it will assign x2 to x1\n",
    "        else:\n",
    "            x0 = x2 # if multiplication of f(x0) and f(x2) is not less then zero select this, it x2 to x0\n",
    "        step = step +1 # continue iteration untill condition is true  \n",
    "        condition = abs(f(x2)) > e\n",
    "    print('root is :%0.8f '%x2) \n",
    "#    return x2\n",
    "\n",
    "def f(x):\n",
    "    return x**3-5*x-9\n",
    "\n",
    "x0 = float(input('first guess: ')) # first guess but float is used ,in points\n",
    "x1 = float(input('second guess: ')) # second guess but float is used ,in points\n",
    "e  = float(input('tolerance: ')) # tells the tolerance\n",
    "\n",
    "if f(x0) * f(x1) > 0.0: # if multiplication gives positive value \n",
    "    print('given guess values do not bracket the root') # it will print given guess values do not bracket the root\n",
    "else:\n",
    "    root = bisection(x0,x1,e) "
   ]
  },
  {
   "cell_type": "code",
   "execution_count": 7,
   "id": "6b324591",
   "metadata": {},
   "outputs": [
    {
     "data": {
      "text/plain": [
       "Text(0, 0.5, 'y axis')"
      ]
     },
     "execution_count": 7,
     "metadata": {},
     "output_type": "execute_result"
    },
    {
     "data": {
      "image/png": "[encoded data removed]",
      "text/plain": [
       "<Figure size 432x288 with 1 Axes>"
      ]
     },
     "metadata": {
      "needs_background": "light"
     },
     "output_type": "display_data"
    }
   ],
   "source": [
    "x = np.linspace(2,3,100) \n",
    "y = x**3-5*x-9\n",
    "plt.plot(x,y)\n",
    "plt.grid()\n",
    "plt.xlabel('x axis', fontsize=13)\n",
    "plt.ylabel('y axis', fontsize=13)"
   ]
  },
  {
   "cell_type": "code",
   "execution_count": 4,
   "id": "2a226e81",
   "metadata": {},
   "outputs": [],
   "source": [
    "# 2- Newton's Raphson Method  ..................................................................."
   ]
  },
  {
   "cell_type": "code",
   "execution_count": 6,
   "id": "559f5f5c",
   "metadata": {},
   "outputs": [
    {
     "name": "stdout",
     "output_type": "stream",
     "text": [
      "the root is 1.500 at 7 iterations.\n"
     ]
    }
   ],
   "source": [
    "from math import sin # access of sin fromphython module\n",
    "def newton(fn,dfn,x,tol,maxiter): # fn(inputfunction),dfn(derivative),x(initial guess),tol(tolerance),maxiter(max iteration)\n",
    "    for i in range(maxiter):\n",
    "        xnew = x - fn(x)/dfn(x) # calculate the value and assign to new variable\n",
    "        if abs(xnew-x)<tol:   # if error is less than zero                       \n",
    "            break\n",
    "        x = xnew # xnew assign to x\n",
    "    return xnew, i\n",
    "\n",
    "y = lambda x: 2*x**3-9.5*x+7.5 # function value\n",
    "dy = lambda x : 6*x**2-9.5 # derivative value\n",
    "\n",
    "x, n = newton(y, dy, 5, 0.0001, 100) \n",
    "print('the root is %.3f at %d iterations.'%(x,n)) # print root x and iteration n"
   ]
  },
  {
   "cell_type": "code",
   "execution_count": 8,
   "id": "7faa103e",
   "metadata": {},
   "outputs": [
    {
     "data": {
      "text/plain": [
       "Text(0, 0.5, 'y axis')"
      ]
     },
     "execution_count": 8,
     "metadata": {},
     "output_type": "execute_result"
    },
    {
     "data": {
      "image/png": "[encoded data removed]",
      "text/plain": [
       "<Figure size 432x288 with 1 Axes>"
      ]
     },
     "metadata": {
      "needs_background": "light"
     },
     "output_type": "display_data"
    }
   ],
   "source": [
    "x = np.linspace(0,5,100) \n",
    "y = 2*x**3-9.5*x+7.5\n",
    "plt.plot(x,y)\n",
    "plt.grid()\n",
    "plt.xlabel('x axis', fontsize=13)\n",
    "plt.ylabel('y axis', fontsize=13)"
   ]
  },
  {
   "cell_type": "code",
   "execution_count": 9,
   "id": "38378c76",
   "metadata": {},
   "outputs": [],
   "source": [
    "#3- Regula Falsi Method ..................................................................."
   ]
  },
  {
   "cell_type": "code",
   "execution_count": 10,
   "id": "5b7a94d0",
   "metadata": {},
   "outputs": [
    {
     "name": "stdout",
     "output_type": "stream",
     "text": [
      "enter x1: 0\n",
      "enter x2: 1\n",
      "The root = 0.250324 at 4 false position\n"
     ]
    }
   ],
   "source": [
    "from math import sin\n",
    "def reg_falsi(f,x1,x2,tol=1.0e-6,maxfpos=100): # acceps the value from below \n",
    "    \n",
    "    if f(x1) * f(x2)<0: # if multiplication is less than 0 then proceed \n",
    "        for fpos in range(1,maxfpos+1):\n",
    "            xh = x2 - (x2-x1)/(f(x2)-f(x1)) * f(x2) #find root value\n",
    "            if abs(f(xh)) < tol:\n",
    "                break # if above is true break the loop\n",
    "            elif f(x1) * f(xh) < 0: # multiplication is less than zero\n",
    "                x2 = xh # xh asign to x2\n",
    "            else:\n",
    "                x1 = xh # if not true then xh to x1\n",
    "    else:\n",
    "        print('No roots exists within the given interval') # if not print this\n",
    "        \n",
    "    return xh, fpos\n",
    "\n",
    "y = lambda x: x**2 - sin(x)**2 - 4*x + 1 # funtion\n",
    "\n",
    "x1 = float(input('enter x1: ')) #input x1 from user\n",
    "x2 = float(input('enter x2: '))# input x2 from user\n",
    "\n",
    "r, n = reg_falsi(y,x1,x2)\n",
    "print('The root = %f at %d false position'%(r,n)) # r output and n iteration number"
   ]
  },
  {
   "cell_type": "code",
   "execution_count": 18,
   "id": "ad036d3c",
   "metadata": {},
   "outputs": [
    {
     "data": {
      "text/plain": [
       "Text(0, 0.5, 'y axis')"
      ]
     },
     "execution_count": 18,
     "metadata": {},
     "output_type": "execute_result"
    },
    {
     "data": {
      "image/png": "[encoded data removed]",
      "text/plain": [
       "<Figure size 432x288 with 1 Axes>"
      ]
     },
     "metadata": {
      "needs_background": "light"
     },
     "output_type": "display_data"
    }
   ],
   "source": [
    "from math import sin\n",
    "x = np.linspace(0,1,100) \n",
    "y = x**2-np.sin(x)**2-4*x+1\n",
    "plt.plot(x,y)\n",
    "plt.grid()\n",
    "plt.xlabel('x axis', fontsize=13)\n",
    "plt.ylabel('y axis', fontsize=13)"
   ]
  },
  {
   "cell_type": "code",
   "execution_count": 19,
   "id": "f4115f2f",
   "metadata": {},
   "outputs": [],
   "source": [
    "# 4- Secant Method ...................................................................."
   ]
  },
  {
   "cell_type": "code",
   "execution_count": null,
   "id": "300e684d",
   "metadata": {},
   "outputs": [],
   "source": [
    "from math import sin\n",
    "def secant(fn,x1,x2,tol,maxiter): # value from function, x1,x2,tolerance and max iteration\n",
    "    for i in range(maxiter):\n",
    "        xnew  = x2 - (x2-x1)/(fn(x2)-fn(x1))*fn(x2) # calculate root and assign to xnew\n",
    "        if abs(xnew-x2) < tol:\n",
    "            break\n",
    "        else:\n",
    "            x1 = x2 # assign x2 to x1 \n",
    "            x2 = xnew # assign xnew to x2\n",
    "    else:\n",
    "        print('warning: Maximum number of iterations is reached')\n",
    "    return xnew, i\n",
    "\n",
    "f = lambda x: 2*x**2 - 5*x + 3  # function \n",
    "\n",
    "x1 = float(input('enter x1: ')) # input value from user\n",
    "x2 = float(input('enter x2: ')) # input value from user\n",
    "\n",
    "r, n = secant(f,x1,x2,1.0e-6,100) # secant function \n",
    "\n",
    "print('Root = %f at %d iterations'%(r,n)) # print r root and n iteration"
   ]
  },
  {
   "cell_type": "code",
   "execution_count": 22,
   "id": "114f34f9",
   "metadata": {},
   "outputs": [
    {
     "data": {
      "text/plain": [
       "Text(0, 0.5, 'y axis')"
      ]
     },
     "execution_count": 22,
     "metadata": {},
     "output_type": "execute_result"
    },
    {
     "data": {
      "image/png": "[encoded data removed]",
      "text/plain": [
       "<Figure size 432x288 with 1 Axes>"
      ]
     },
     "metadata": {
      "needs_background": "light"
     },
     "output_type": "display_data"
    }
   ],
   "source": [
    "\n",
    "x = np.linspace(-2,1,100) \n",
    "y = 2*x*2-5*x+3\n",
    "plt.plot(x,y)\n",
    "plt.grid()\n",
    "plt.xlabel('x axis', fontsize=13)\n",
    "plt.ylabel('y axis', fontsize=13)"
   ]
  },
  {
   "cell_type": "code",
   "execution_count": null,
   "id": "994c16c1",
   "metadata": {},
   "outputs": [],
   "source": []
  }
 ],
 "metadata": {
  "kernelspec": {
   "display_name": "Python 3",
   "language": "python",
   "name": "python3"
  },
  "language_info": {
   "codemirror_mode": {
    "name": "ipython",
    "version": 3
   },
   "file_extension": ".py",
   "mimetype": "text/x-python",
   "name": "python",
   "nbconvert_exporter": "python",
   "pygments_lexer": "ipython3",
   "version": "3.9.1"
  }
 },
 "nbformat": 4,
 "nbformat_minor": 5
}
